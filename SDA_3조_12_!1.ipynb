{
 "cells": [
  {
   "cell_type": "markdown",
   "metadata": {},
   "source": [
    "# 소득 분석 프로젝트 : 인구조사 데이터 중 큰 영향을 미치는 요인과 regression 분석"
   ]
  },
  {
   "cell_type": "markdown",
   "metadata": {},
   "source": [
    "# 데이터 로드 및 탐색"
   ]
  },
  {
   "cell_type": "code",
   "execution_count": 1,
   "metadata": {},
   "outputs": [
    {
     "name": "stdout",
     "output_type": "stream",
     "text": [
      "<class 'pandas.core.frame.DataFrame'>\n",
      "RangeIndex: 32561 entries, 0 to 32560\n",
      "Data columns (total 15 columns):\n",
      " #   Column          Non-Null Count  Dtype \n",
      "---  ------          --------------  ----- \n",
      " 0   age             32561 non-null  int64 \n",
      " 1   workclass       32561 non-null  object\n",
      " 2   fnlwgt          32561 non-null  int64 \n",
      " 3   education       32561 non-null  object\n",
      " 4   education.num   32561 non-null  int64 \n",
      " 5   marital.status  32561 non-null  object\n",
      " 6   occupation      32561 non-null  object\n",
      " 7   relationship    32561 non-null  object\n",
      " 8   race            32561 non-null  object\n",
      " 9   sex             32561 non-null  object\n",
      " 10  capital.gain    32561 non-null  int64 \n",
      " 11  capital.loss    32561 non-null  int64 \n",
      " 12  hours.per.week  32561 non-null  int64 \n",
      " 13  native.country  32561 non-null  object\n",
      " 14  income          32561 non-null  object\n",
      "dtypes: int64(6), object(9)\n",
      "memory usage: 3.7+ MB\n"
     ]
    },
    {
     "data": {
      "text/html": [
       "<div>\n",
       "<style scoped>\n",
       "    .dataframe tbody tr th:only-of-type {\n",
       "        vertical-align: middle;\n",
       "    }\n",
       "\n",
       "    .dataframe tbody tr th {\n",
       "        vertical-align: top;\n",
       "    }\n",
       "\n",
       "    .dataframe thead th {\n",
       "        text-align: right;\n",
       "    }\n",
       "</style>\n",
       "<table border=\"1\" class=\"dataframe\">\n",
       "  <thead>\n",
       "    <tr style=\"text-align: right;\">\n",
       "      <th></th>\n",
       "      <th>age</th>\n",
       "      <th>workclass</th>\n",
       "      <th>fnlwgt</th>\n",
       "      <th>education</th>\n",
       "      <th>education.num</th>\n",
       "      <th>marital.status</th>\n",
       "      <th>occupation</th>\n",
       "      <th>relationship</th>\n",
       "      <th>race</th>\n",
       "      <th>sex</th>\n",
       "      <th>capital.gain</th>\n",
       "      <th>capital.loss</th>\n",
       "      <th>hours.per.week</th>\n",
       "      <th>native.country</th>\n",
       "      <th>income</th>\n",
       "    </tr>\n",
       "  </thead>\n",
       "  <tbody>\n",
       "    <tr>\n",
       "      <th>0</th>\n",
       "      <td>90</td>\n",
       "      <td>?</td>\n",
       "      <td>77053</td>\n",
       "      <td>HS-grad</td>\n",
       "      <td>9</td>\n",
       "      <td>Widowed</td>\n",
       "      <td>?</td>\n",
       "      <td>Not-in-family</td>\n",
       "      <td>White</td>\n",
       "      <td>Female</td>\n",
       "      <td>0</td>\n",
       "      <td>4356</td>\n",
       "      <td>40</td>\n",
       "      <td>United-States</td>\n",
       "      <td>&lt;=50K</td>\n",
       "    </tr>\n",
       "    <tr>\n",
       "      <th>1</th>\n",
       "      <td>82</td>\n",
       "      <td>Private</td>\n",
       "      <td>132870</td>\n",
       "      <td>HS-grad</td>\n",
       "      <td>9</td>\n",
       "      <td>Widowed</td>\n",
       "      <td>Exec-managerial</td>\n",
       "      <td>Not-in-family</td>\n",
       "      <td>White</td>\n",
       "      <td>Female</td>\n",
       "      <td>0</td>\n",
       "      <td>4356</td>\n",
       "      <td>18</td>\n",
       "      <td>United-States</td>\n",
       "      <td>&lt;=50K</td>\n",
       "    </tr>\n",
       "    <tr>\n",
       "      <th>2</th>\n",
       "      <td>66</td>\n",
       "      <td>?</td>\n",
       "      <td>186061</td>\n",
       "      <td>Some-college</td>\n",
       "      <td>10</td>\n",
       "      <td>Widowed</td>\n",
       "      <td>?</td>\n",
       "      <td>Unmarried</td>\n",
       "      <td>Black</td>\n",
       "      <td>Female</td>\n",
       "      <td>0</td>\n",
       "      <td>4356</td>\n",
       "      <td>40</td>\n",
       "      <td>United-States</td>\n",
       "      <td>&lt;=50K</td>\n",
       "    </tr>\n",
       "    <tr>\n",
       "      <th>3</th>\n",
       "      <td>54</td>\n",
       "      <td>Private</td>\n",
       "      <td>140359</td>\n",
       "      <td>7th-8th</td>\n",
       "      <td>4</td>\n",
       "      <td>Divorced</td>\n",
       "      <td>Machine-op-inspct</td>\n",
       "      <td>Unmarried</td>\n",
       "      <td>White</td>\n",
       "      <td>Female</td>\n",
       "      <td>0</td>\n",
       "      <td>3900</td>\n",
       "      <td>40</td>\n",
       "      <td>United-States</td>\n",
       "      <td>&lt;=50K</td>\n",
       "    </tr>\n",
       "    <tr>\n",
       "      <th>4</th>\n",
       "      <td>41</td>\n",
       "      <td>Private</td>\n",
       "      <td>264663</td>\n",
       "      <td>Some-college</td>\n",
       "      <td>10</td>\n",
       "      <td>Separated</td>\n",
       "      <td>Prof-specialty</td>\n",
       "      <td>Own-child</td>\n",
       "      <td>White</td>\n",
       "      <td>Female</td>\n",
       "      <td>0</td>\n",
       "      <td>3900</td>\n",
       "      <td>40</td>\n",
       "      <td>United-States</td>\n",
       "      <td>&lt;=50K</td>\n",
       "    </tr>\n",
       "  </tbody>\n",
       "</table>\n",
       "</div>"
      ],
      "text/plain": [
       "   age workclass  fnlwgt     education  education.num marital.status  \\\n",
       "0   90         ?   77053       HS-grad              9        Widowed   \n",
       "1   82   Private  132870       HS-grad              9        Widowed   \n",
       "2   66         ?  186061  Some-college             10        Widowed   \n",
       "3   54   Private  140359       7th-8th              4       Divorced   \n",
       "4   41   Private  264663  Some-college             10      Separated   \n",
       "\n",
       "          occupation   relationship   race     sex  capital.gain  \\\n",
       "0                  ?  Not-in-family  White  Female             0   \n",
       "1    Exec-managerial  Not-in-family  White  Female             0   \n",
       "2                  ?      Unmarried  Black  Female             0   \n",
       "3  Machine-op-inspct      Unmarried  White  Female             0   \n",
       "4     Prof-specialty      Own-child  White  Female             0   \n",
       "\n",
       "   capital.loss  hours.per.week native.country income  \n",
       "0          4356              40  United-States  <=50K  \n",
       "1          4356              18  United-States  <=50K  \n",
       "2          4356              40  United-States  <=50K  \n",
       "3          3900              40  United-States  <=50K  \n",
       "4          3900              40  United-States  <=50K  "
      ]
     },
     "execution_count": 1,
     "metadata": {},
     "output_type": "execute_result"
    }
   ],
   "source": [
    "import pandas as pd\n",
    "import numpy as np\n",
    "import matplotlib.pyplot as plt\n",
    "import seaborn as sns\n",
    "from scipy.stats import shapiro, levene, chi2_contingency, ttest_ind\n",
    "import statsmodels.api as sm\n",
    "\n",
    "# Load the dataset\n",
    "data = pd.read_csv('adult.csv')\n",
    "data.info()\n",
    "data.head()"
   ]
  },
  {
   "cell_type": "markdown",
   "metadata": {},
   "source": [
    "# 결측치 제거"
   ]
  },
  {
   "cell_type": "code",
   "execution_count": 2,
   "metadata": {},
   "outputs": [],
   "source": [
    "# Preprocessing: Handle missing values or placeholders such as '?'\n",
    "data_cleaned = data.replace('?', None).dropna()"
   ]
  },
  {
   "cell_type": "markdown",
   "metadata": {},
   "source": [
    "# 이상치 제거\n",
    "- IQR 방법으로 age, education.num, hours.per.week, capital.gain, capital.loss에서 이상치를 제거."
   ]
  },
  {
   "cell_type": "code",
   "execution_count": 3,
   "metadata": {},
   "outputs": [
    {
     "name": "stdout",
     "output_type": "stream",
     "text": [
      "<class 'pandas.core.frame.DataFrame'>\n",
      "Index: 20246 entries, 3 to 32559\n",
      "Data columns (total 15 columns):\n",
      " #   Column          Non-Null Count  Dtype \n",
      "---  ------          --------------  ----- \n",
      " 0   age             20246 non-null  int64 \n",
      " 1   workclass       20246 non-null  object\n",
      " 2   fnlwgt          20246 non-null  int64 \n",
      " 3   education       20246 non-null  object\n",
      " 4   education.num   20246 non-null  int64 \n",
      " 5   marital.status  20246 non-null  object\n",
      " 6   occupation      20246 non-null  object\n",
      " 7   relationship    20246 non-null  object\n",
      " 8   race            20246 non-null  object\n",
      " 9   sex             20246 non-null  object\n",
      " 10  capital.gain    20246 non-null  int64 \n",
      " 11  capital.loss    20246 non-null  int64 \n",
      " 12  hours.per.week  20246 non-null  int64 \n",
      " 13  native.country  20246 non-null  object\n",
      " 14  income          20246 non-null  object\n",
      "dtypes: int64(6), object(9)\n",
      "memory usage: 2.5+ MB\n"
     ]
    }
   ],
   "source": [
    "# IQR로 이상치 제거\n",
    "def remove_outliers(df, column):\n",
    "    Q1 = df[column].quantile(0.25)\n",
    "    Q3 = df[column].quantile(0.75)\n",
    "    IQR = Q3 - Q1\n",
    "    lower_bound = Q1 - 1.5 * IQR\n",
    "    upper_bound = Q3 + 1.5 * IQR\n",
    "    return df[(df[column] >= lower_bound) & (df[column] <= upper_bound)]\n",
    "# 이상치 제거\n",
    "columns_to_clean = ['age', 'hours.per.week', 'capital.gain']\n",
    "for column in columns_to_clean:\n",
    "    data_cleaned = remove_outliers(data_cleaned, column)\n",
    "\n",
    "data_cleaned.info()"
   ]
  },
  {
   "cell_type": "markdown",
   "metadata": {},
   "source": [
    "# 상관 관계를 통해 income과 가장 연관 있는 3개의 변수 고르기"
   ]
  },
  {
   "cell_type": "code",
   "execution_count": 4,
   "metadata": {},
   "outputs": [
    {
     "data": {
      "image/png": "[encoded data removed]",
      "text/plain": [
       "<Figure size 800x600 with 1 Axes>"
      ]
     },
     "metadata": {},
     "output_type": "display_data"
    },
    {
     "data": {
      "text/plain": [
       "income            1.000000\n",
       "education.num     0.303908\n",
       "age               0.239659\n",
       "hours.per.week    0.182985\n",
       "capital.loss      0.173766\n",
       "fnlwgt           -0.009313\n",
       "capital.gain           NaN\n",
       "Name: income, dtype: float64"
      ]
     },
     "execution_count": 4,
     "metadata": {},
     "output_type": "execute_result"
    }
   ],
   "source": [
    "import seaborn as sns\n",
    "import matplotlib.pyplot as plt\n",
    "\n",
    "# Convert 'income' to numeric binary variable for regression (<=50K: 0, >50K: 1)\n",
    "data_cleaned['income'] = data_cleaned['income'].apply(lambda x: 1 if x.strip() == '>50K' else 0)\n",
    "\n",
    "# Select numeric variables for correlation analysis\n",
    "numeric_vars = ['age', 'education.num', 'capital.gain', 'capital.loss', 'hours.per.week', 'fnlwgt']\n",
    "\n",
    "# Compute correlation with 'income'\n",
    "correlation_with_income = data_cleaned[numeric_vars + ['income']].corr()['income'].sort_values(ascending=False)\n",
    "\n",
    "# Visualize correlations\n",
    "plt.figure(figsize=(8, 6))\n",
    "sns.barplot(x=correlation_with_income.index, y=correlation_with_income.values)\n",
    "plt.title('Correlation with Income')\n",
    "plt.ylabel('Correlation Coefficient')\n",
    "plt.xticks(rotation=45)\n",
    "plt.show()\n",
    "\n",
    "correlation_with_income\n"
   ]
  },
  {
   "cell_type": "markdown",
   "metadata": {},
   "source": [
    "## income을 제외하고 education.num(교육 수준), age (나이), hours.per.week(주당 근무 시간)이 income과 가장 관련이 높은 것으로 확인된다.\n",
    "### -> 위 3가지 변수 선택"
   ]
  },
  {
   "cell_type": "markdown",
   "metadata": {},
   "source": [
    "# 다중 공선성 확인\n",
    "- 다중 공선성 : 독립 변수들 간에 강한 상관관계가 있는 현상. 회귀 계수의 추정값이 민감해지고, 모델의 해석이 어려워지는 문제가 있음\n",
    "\n",
    "- vif가 10 이상이면 다중공선성이 심각하다고 판단."
   ]
  },
  {
   "cell_type": "code",
   "execution_count": 6,
   "metadata": {},
   "outputs": [],
   "source": [
    "# 다중 공선성 확인\n",
    "from statsmodels.api import OLS, add_constant\n",
    "from statsmodels.stats.outliers_influence import variance_inflation_factor\n",
    "X = data_cleaned[['age', 'education.num', 'hours.per.week', 'capital.loss']]\n",
    "X = add_constant(X)  # Add constant for VIF calculation\n",
    "vif = pd.DataFrame()\n",
    "vif[\"Variable\"] = X.columns\n",
    "vif[\"VIF\"] = [variance_inflation_factor(X.values, i) for i in range(X.shape[1])]\n"
   ]
  },
  {
   "cell_type": "code",
   "execution_count": 7,
   "metadata": {},
   "outputs": [
    {
     "data": {
      "text/html": [
       "<div>\n",
       "<style scoped>\n",
       "    .dataframe tbody tr th:only-of-type {\n",
       "        vertical-align: middle;\n",
       "    }\n",
       "\n",
       "    .dataframe tbody tr th {\n",
       "        vertical-align: top;\n",
       "    }\n",
       "\n",
       "    .dataframe thead th {\n",
       "        text-align: right;\n",
       "    }\n",
       "</style>\n",
       "<table border=\"1\" class=\"dataframe\">\n",
       "  <thead>\n",
       "    <tr style=\"text-align: right;\">\n",
       "      <th></th>\n",
       "      <th>Variable</th>\n",
       "      <th>VIF</th>\n",
       "    </tr>\n",
       "  </thead>\n",
       "  <tbody>\n",
       "    <tr>\n",
       "      <th>0</th>\n",
       "      <td>const</td>\n",
       "      <td>125.251759</td>\n",
       "    </tr>\n",
       "    <tr>\n",
       "      <th>1</th>\n",
       "      <td>age</td>\n",
       "      <td>1.007066</td>\n",
       "    </tr>\n",
       "    <tr>\n",
       "      <th>2</th>\n",
       "      <td>education.num</td>\n",
       "      <td>1.024371</td>\n",
       "    </tr>\n",
       "    <tr>\n",
       "      <th>3</th>\n",
       "      <td>hours.per.week</td>\n",
       "      <td>1.021467</td>\n",
       "    </tr>\n",
       "    <tr>\n",
       "      <th>4</th>\n",
       "      <td>capital.loss</td>\n",
       "      <td>1.013322</td>\n",
       "    </tr>\n",
       "  </tbody>\n",
       "</table>\n",
       "</div>"
      ],
      "text/plain": [
       "         Variable         VIF\n",
       "0           const  125.251759\n",
       "1             age    1.007066\n",
       "2   education.num    1.024371\n",
       "3  hours.per.week    1.021467\n",
       "4    capital.loss    1.013322"
      ]
     },
     "execution_count": 7,
     "metadata": {},
     "output_type": "execute_result"
    }
   ],
   "source": [
    "vif"
   ]
  },
  {
   "cell_type": "markdown",
   "metadata": {},
   "source": [
    "## 4가지 변수 모두 1에 가까운 값으로 다중공선성이 없다고 할 수 있음"
   ]
  },
  {
   "cell_type": "markdown",
   "metadata": {},
   "source": [
    "# 회귀 분석의 조건 1. 정규성, 등분산성, 독립성 확인"
   ]
  },
  {
   "cell_type": "code",
   "execution_count": 9,
   "metadata": {},
   "outputs": [
    {
     "data": {
      "image/png": "[encoded data removed]",
      "text/plain": [
       "<Figure size 800x600 with 1 Axes>"
      ]
     },
     "metadata": {},
     "output_type": "display_data"
    },
    {
     "data": {
      "image/png": "[encoded data removed]",
      "text/plain": [
       "<Figure size 800x600 with 1 Axes>"
      ]
     },
     "metadata": {},
     "output_type": "display_data"
    },
    {
     "data": {
      "text/plain": [
       "1.8950658821362463"
      ]
     },
     "execution_count": 9,
     "metadata": {},
     "output_type": "execute_result"
    }
   ],
   "source": [
    "from statsmodels.stats.outliers_influence import variance_inflation_factor\n",
    "from statsmodels.api import OLS, add_constant\n",
    "import numpy as np\n",
    "import matplotlib.pyplot as plt\n",
    "import scipy.stats as stats\n",
    "\n",
    "\n",
    "# Step 1: Train regression model and check assumptions\n",
    "model = OLS(data_cleaned['income'], X).fit()\n",
    "predictions = model.predict(X)\n",
    "\n",
    "# Residuals\n",
    "residuals = data_cleaned['income'] - predictions\n",
    "\n",
    "# Step 2: Check normality of residuals\n",
    "plt.figure(figsize=(8, 6))\n",
    "stats.probplot(residuals, dist=\"norm\", plot=plt)\n",
    "plt.title('Q-Q Plot for Residuals')\n",
    "plt.show()\n",
    "\n",
    "# Step 3: Check homoscedasticity (Residuals vs Fitted Values)\n",
    "plt.figure(figsize=(8, 6))\n",
    "plt.scatter(predictions, residuals, alpha=0.5)\n",
    "plt.axhline(0, color='red', linestyle='--')\n",
    "plt.title('Residuals vs Fitted Values')\n",
    "plt.xlabel('Fitted Values')\n",
    "plt.ylabel('Residuals')\n",
    "plt.show()\n",
    "\n",
    "# Step 6: Independence (Durbin-Watson Test)\n",
    "from statsmodels.stats.stattools import durbin_watson\n",
    "dw_stat = durbin_watson(residuals)\n",
    "\n",
    "# Display VIF and Durbin-Watson Statistic\n",
    "dw_stat\n"
   ]
  },
  {
   "cell_type": "markdown",
   "metadata": {},
   "source": [
    "1. 잔차의 정규성 : 잔차 -> 실제 값과 예측 값의 차이\n",
    "    - Q-Q Plot을 확인한 결과, 잔차가 정규성을 대체로 따르는 것으로 보입니다.\n",
    "\n",
    "2. 등분산성 -> 잔차의 분산이 모든 예측값에 대해 일정해야 한다.\n",
    "    - Residuals vs Fitted Values 그래프에서 잔차가 예측값에 따라 일정한 패턴을 보이지 않습니다. 이는 등분산성이 만족됨을 나타냅니다.\n",
    "\n",
    "3. 독립성 (Durbin-Watson Test) -> 0<= DW <= 4의 범위를 가지며, DW가 2에 가까울수록 독립임을 보인다.\n",
    "    - Durbin-Watson 통계량이 1.99로 2에 근접합니다. 이는 잔차가 독립적임을 보여줍니다."
   ]
  },
  {
   "cell_type": "markdown",
   "metadata": {},
   "source": [
    "# 진짜 만족할까? 정량적 테스트로 확인"
   ]
  },
  {
   "cell_type": "code",
   "execution_count": 10,
   "metadata": {},
   "outputs": [
    {
     "name": "stderr",
     "output_type": "stream",
     "text": [
      "C:\\Users\\user\\anaconda3\\envs\\sda2024\\lib\\site-packages\\scipy\\stats\\_morestats.py:1816: UserWarning: p-value may not be accurate for N > 5000.\n",
      "  warnings.warn(\"p-value may not be accurate for N > 5000.\")\n"
     ]
    },
    {
     "data": {
      "text/plain": [
       "{'Normality (Shapiro-Wilk Test)': {'Statistic': 0.8692876100540161,\n",
       "  'p-value': 0.0},\n",
       " 'Homoscedasticity (Breusch-Pagan Test)': {'LM Statistic': 2534.7237248400825,\n",
       "  'p-value': 0.0},\n",
       " 'Durbin-Watson (Independence)': 1.8950658821362463}"
      ]
     },
     "execution_count": 10,
     "metadata": {},
     "output_type": "execute_result"
    }
   ],
   "source": [
    "# Recalculating all tests from scratch to avoid prior issues\n",
    "from statsmodels.stats.diagnostic import het_breuschpagan\n",
    "from scipy.stats import shapiro, jarque_bera\n",
    "\n",
    "# Shapiro-Wilk test for normality\n",
    "shapiro_stat, shapiro_pval = shapiro(residuals)\n",
    "\n",
    "# Ensure X includes a constant for Breusch-Pagan test\n",
    "X_bp = add_constant(X.iloc[:, 1:])  # Add constant for all predictors excluding the existing constant\n",
    "\n",
    "# Breusch-Pagan test for homoscedasticity\n",
    "bp_test = het_breuschpagan(residuals, X_bp)  # Use predictors without the constant\n",
    "\n",
    "# Compiling all results\n",
    "test_results = {\n",
    "    \"Normality (Shapiro-Wilk Test)\": {\"Statistic\": shapiro_stat, \"p-value\": shapiro_pval},\n",
    "    \"Homoscedasticity (Breusch-Pagan Test)\": {\"LM Statistic\": bp_test[0], \"p-value\": bp_test[1]},\n",
    "    \"Durbin-Watson (Independence)\": dw_stat,\n",
    "}\n",
    "\n",
    "test_results\n"
   ]
  },
  {
   "cell_type": "markdown",
   "metadata": {},
   "source": [
    "1. Normality Test (Shapiro-Wilk Test) \n",
    "    - H0 : 잔차가 정규 분포를 따른다.\n",
    "    - HA : 잔차가 정규 분포를 따르지 않는다.\n",
    "    결과 : p-value는 0에 가까운 값으로, H0를 기각하고 HA를 채택 -> 잔차가 정규 분포를 따르지 않는다고 할 수 있다.\n",
    "    \n",
    "2. 등분산성 Test (Breusch-Pagan Test) \n",
    "    - H0 : 잔차의 분산은 일정하다\n",
    "    - HA : 잔차의 분산은 일정하지 않다\n",
    "    결과 : : p-value는 0에 가까운 값으로, H0를 기각하고 HA를 채택 -> 잔차가  잔차의 분산은 일정하지 않다고 할 수 있다.\n",
    "\n",
    "3. 독립성 Test (Durbin-Watson)\n",
    "    - H0 : 잔차 간에는 독립성을 만족한다.\n",
    "    - HA : 잔차 간에는 독립성을 만족하지 않는다.\n",
    "    결과 : p-value가 1.895로 0.05보다 크므로, H0을 기각할 수 없다. 따라서 잔차 간에는 독립성을 만족한다고 할 수 있다."
   ]
  },
  {
   "cell_type": "markdown",
   "metadata": {},
   "source": [
    "# 정규성, 등분산성 만족 X, 독립성은 만족\n",
    "\n",
    "## log 변환으로 정규성과 등분산성을 해결해보자."
   ]
  },
  {
   "cell_type": "code",
   "execution_count": 11,
   "metadata": {},
   "outputs": [
    {
     "name": "stderr",
     "output_type": "stream",
     "text": [
      "C:\\Users\\user\\anaconda3\\envs\\sda2024\\lib\\site-packages\\scipy\\stats\\_morestats.py:1816: UserWarning: p-value may not be accurate for N > 5000.\n",
      "  warnings.warn(\"p-value may not be accurate for N > 5000.\")\n"
     ]
    },
    {
     "data": {
      "text/plain": [
       "{'Normality (Shapiro-Wilk Test)': {'Statistic': 0.8697891235351562,\n",
       "  'p-value': 0.0},\n",
       " 'Normality (Jarque-Bera Test)': {'Statistic': 3247.183346594388,\n",
       "  'p-value': 0.0},\n",
       " 'Homoscedasticity (Breusch-Pagan Test)': {'LM Statistic': 2578.5781309160852,\n",
       "  'p-value': 0.0},\n",
       " 'Durbin-Watson (Independence)': 1.8901424371590823}"
      ]
     },
     "execution_count": 11,
     "metadata": {},
     "output_type": "execute_result"
    }
   ],
   "source": [
    "from statsmodels.tools import add_constant\n",
    "from statsmodels.formula.api import ols\n",
    "from numpy import log1p\n",
    "\n",
    "# Apply log transformation to target (income) and selected variables to address issues\n",
    "data_transformed = data_cleaned.copy()\n",
    "data_transformed['income_log'] = log1p(data_transformed['income'])\n",
    "data_transformed['capital.gain_log'] = log1p(data_transformed['capital.gain'])\n",
    "data_transformed['capital.loss_log'] = log1p(data_transformed['capital.loss'])\n",
    "data_transformed['hours_log'] = log1p(data_transformed['hours.per.week'])\n",
    "\n",
    "# Select transformed variables for regression\n",
    "X_transformed = data_transformed[['age', 'education.num', 'hours_log', 'capital.gain_log', 'capital.loss_log']]\n",
    "X_transformed = add_constant(X_transformed)  # Add constant term\n",
    "y_transformed = data_transformed['income_log']\n",
    "\n",
    "# Fit the regression model\n",
    "model_transformed = OLS(y_transformed, X_transformed).fit()\n",
    "\n",
    "# Check new residuals\n",
    "residuals_transformed = model_transformed.resid\n",
    "\n",
    "X_bp_transformed = add_constant(X_transformed.iloc[:, 1:])\n",
    "\n",
    "# Perform updated normality and homoscedasticity tests\n",
    "shapiro_stat_trans, shapiro_pval_trans = shapiro(residuals_transformed)\n",
    "jb_stat_trans, jb_pval_trans = jarque_bera(residuals_transformed)\n",
    "bp_test_trans = het_breuschpagan(residuals_transformed, X_bp_transformed)\n",
    "\n",
    "# Compile updated test results\n",
    "test_results_transformed = {\n",
    "    \"Normality (Shapiro-Wilk Test)\": {\"Statistic\": shapiro_stat_trans, \"p-value\": shapiro_pval_trans},\n",
    "    \"Normality (Jarque-Bera Test)\": {\"Statistic\": jb_stat_trans, \"p-value\": jb_pval_trans},\n",
    "    \"Homoscedasticity (Breusch-Pagan Test)\": {\"LM Statistic\": bp_test_trans[0], \"p-value\": bp_test_trans[1]},\n",
    "    \"Durbin-Watson (Independence)\": durbin_watson(residuals_transformed),\n",
    "}\n",
    "\n",
    "test_results_transformed\n"
   ]
  },
  {
   "cell_type": "markdown",
   "metadata": {},
   "source": [
    "## 여전히 결과는 같다."
   ]
  },
  {
   "cell_type": "code",
   "execution_count": 12,
   "metadata": {},
   "outputs": [
    {
     "name": "stderr",
     "output_type": "stream",
     "text": [
      "C:\\Users\\user\\anaconda3\\envs\\sda2024\\lib\\site-packages\\statsmodels\\regression\\linear_model.py:1966: RuntimeWarning: divide by zero encountered in scalar divide\n",
      "  return np.sqrt(eigvals[0]/eigvals[-1])\n"
     ]
    },
    {
     "data": {
      "text/html": [
       "<table class=\"simpletable\">\n",
       "<caption>OLS Regression Results</caption>\n",
       "<tr>\n",
       "  <th>Dep. Variable:</th>       <td>income_log</td>    <th>  R-squared:         </th> <td>   0.180</td>\n",
       "</tr>\n",
       "<tr>\n",
       "  <th>Model:</th>                   <td>OLS</td>       <th>  Adj. R-squared:    </th> <td>   0.180</td>\n",
       "</tr>\n",
       "<tr>\n",
       "  <th>Method:</th>             <td>Least Squares</td>  <th>  F-statistic:       </th> <td>   1114.</td>\n",
       "</tr>\n",
       "<tr>\n",
       "  <th>Date:</th>             <td>Wed, 11 Dec 2024</td> <th>  Prob (F-statistic):</th>  <td>  0.00</td> \n",
       "</tr>\n",
       "<tr>\n",
       "  <th>Time:</th>                 <td>00:52:14</td>     <th>  Log-Likelihood:    </th> <td> -1631.6</td>\n",
       "</tr>\n",
       "<tr>\n",
       "  <th>No. Observations:</th>      <td> 20246</td>      <th>  AIC:               </th> <td>   3273.</td>\n",
       "</tr>\n",
       "<tr>\n",
       "  <th>Df Residuals:</th>          <td> 20241</td>      <th>  BIC:               </th> <td>   3313.</td>\n",
       "</tr>\n",
       "<tr>\n",
       "  <th>Df Model:</th>              <td>     4</td>      <th>                     </th>     <td> </td>   \n",
       "</tr>\n",
       "<tr>\n",
       "  <th>Covariance Type:</th>      <td>nonrobust</td>    <th>                     </th>     <td> </td>   \n",
       "</tr>\n",
       "</table>\n",
       "<table class=\"simpletable\">\n",
       "<tr>\n",
       "          <td></td>            <th>coef</th>     <th>std err</th>      <th>t</th>      <th>P>|t|</th>  <th>[0.025</th>    <th>0.975]</th>  \n",
       "</tr>\n",
       "<tr>\n",
       "  <th>const</th>            <td>   -1.9542</td> <td>    0.077</td> <td>  -25.369</td> <td> 0.000</td> <td>   -2.105</td> <td>   -1.803</td>\n",
       "</tr>\n",
       "<tr>\n",
       "  <th>age</th>              <td>    0.0055</td> <td>    0.000</td> <td>   34.893</td> <td> 0.000</td> <td>    0.005</td> <td>    0.006</td>\n",
       "</tr>\n",
       "<tr>\n",
       "  <th>education.num</th>    <td>    0.0319</td> <td>    0.001</td> <td>   42.683</td> <td> 0.000</td> <td>    0.030</td> <td>    0.033</td>\n",
       "</tr>\n",
       "<tr>\n",
       "  <th>hours_log</th>        <td>    0.4197</td> <td>    0.021</td> <td>   20.239</td> <td> 0.000</td> <td>    0.379</td> <td>    0.460</td>\n",
       "</tr>\n",
       "<tr>\n",
       "  <th>capital.gain_log</th> <td>         0</td> <td>        0</td> <td>      nan</td> <td>   nan</td> <td>        0</td> <td>        0</td>\n",
       "</tr>\n",
       "<tr>\n",
       "  <th>capital.loss_log</th> <td>    0.0209</td> <td>    0.001</td> <td>   18.766</td> <td> 0.000</td> <td>    0.019</td> <td>    0.023</td>\n",
       "</tr>\n",
       "</table>\n",
       "<table class=\"simpletable\">\n",
       "<tr>\n",
       "  <th>Omnibus:</th>       <td>2341.155</td> <th>  Durbin-Watson:     </th> <td>   1.890</td>\n",
       "</tr>\n",
       "<tr>\n",
       "  <th>Prob(Omnibus):</th>  <td> 0.000</td>  <th>  Jarque-Bera (JB):  </th> <td>3247.183</td>\n",
       "</tr>\n",
       "<tr>\n",
       "  <th>Skew:</th>           <td> 0.978</td>  <th>  Prob(JB):          </th> <td>    0.00</td>\n",
       "</tr>\n",
       "<tr>\n",
       "  <th>Kurtosis:</th>       <td> 2.845</td>  <th>  Cond. No.          </th> <td>     inf</td>\n",
       "</tr>\n",
       "</table><br/><br/>Notes:<br/>[1] Standard Errors assume that the covariance matrix of the errors is correctly specified.<br/>[2] The smallest eigenvalue is      0. This might indicate that there are<br/>strong multicollinearity problems or that the design matrix is singular."
      ],
      "text/latex": [
       "\\begin{center}\n",
       "\\begin{tabular}{lclc}\n",
       "\\toprule\n",
       "\\textbf{Dep. Variable:}    &   income\\_log    & \\textbf{  R-squared:         } &     0.180   \\\\\n",
       "\\textbf{Model:}            &       OLS        & \\textbf{  Adj. R-squared:    } &     0.180   \\\\\n",
       "\\textbf{Method:}           &  Least Squares   & \\textbf{  F-statistic:       } &     1114.   \\\\\n",
       "\\textbf{Date:}             & Wed, 11 Dec 2024 & \\textbf{  Prob (F-statistic):} &     0.00    \\\\\n",
       "\\textbf{Time:}             &     00:52:14     & \\textbf{  Log-Likelihood:    } &   -1631.6   \\\\\n",
       "\\textbf{No. Observations:} &       20246      & \\textbf{  AIC:               } &     3273.   \\\\\n",
       "\\textbf{Df Residuals:}     &       20241      & \\textbf{  BIC:               } &     3313.   \\\\\n",
       "\\textbf{Df Model:}         &           4      & \\textbf{                     } &             \\\\\n",
       "\\textbf{Covariance Type:}  &    nonrobust     & \\textbf{                     } &             \\\\\n",
       "\\bottomrule\n",
       "\\end{tabular}\n",
       "\\begin{tabular}{lcccccc}\n",
       "                           & \\textbf{coef} & \\textbf{std err} & \\textbf{t} & \\textbf{P$> |$t$|$} & \\textbf{[0.025} & \\textbf{0.975]}  \\\\\n",
       "\\midrule\n",
       "\\textbf{const}             &      -1.9542  &        0.077     &   -25.369  &         0.000        &       -2.105    &       -1.803     \\\\\n",
       "\\textbf{age}               &       0.0055  &        0.000     &    34.893  &         0.000        &        0.005    &        0.006     \\\\\n",
       "\\textbf{education.num}     &       0.0319  &        0.001     &    42.683  &         0.000        &        0.030    &        0.033     \\\\\n",
       "\\textbf{hours\\_log}        &       0.4197  &        0.021     &    20.239  &         0.000        &        0.379    &        0.460     \\\\\n",
       "\\textbf{capital.gain\\_log} &            0  &            0     &       nan  &           nan        &            0    &            0     \\\\\n",
       "\\textbf{capital.loss\\_log} &       0.0209  &        0.001     &    18.766  &         0.000        &        0.019    &        0.023     \\\\\n",
       "\\bottomrule\n",
       "\\end{tabular}\n",
       "\\begin{tabular}{lclc}\n",
       "\\textbf{Omnibus:}       & 2341.155 & \\textbf{  Durbin-Watson:     } &    1.890  \\\\\n",
       "\\textbf{Prob(Omnibus):} &   0.000  & \\textbf{  Jarque-Bera (JB):  } & 3247.183  \\\\\n",
       "\\textbf{Skew:}          &   0.978  & \\textbf{  Prob(JB):          } &     0.00  \\\\\n",
       "\\textbf{Kurtosis:}      &   2.845  & \\textbf{  Cond. No.          } &      inf  \\\\\n",
       "\\bottomrule\n",
       "\\end{tabular}\n",
       "%\\caption{OLS Regression Results}\n",
       "\\end{center}\n",
       "\n",
       "Notes: \\newline\n",
       " [1] Standard Errors assume that the covariance matrix of the errors is correctly specified. \\newline\n",
       " [2] The smallest eigenvalue is      0. This might indicate that there are \\newline\n",
       " strong multicollinearity problems or that the design matrix is singular."
      ],
      "text/plain": [
       "<class 'statsmodels.iolib.summary.Summary'>\n",
       "\"\"\"\n",
       "                            OLS Regression Results                            \n",
       "==============================================================================\n",
       "Dep. Variable:             income_log   R-squared:                       0.180\n",
       "Model:                            OLS   Adj. R-squared:                  0.180\n",
       "Method:                 Least Squares   F-statistic:                     1114.\n",
       "Date:                Wed, 11 Dec 2024   Prob (F-statistic):               0.00\n",
       "Time:                        00:52:14   Log-Likelihood:                -1631.6\n",
       "No. Observations:               20246   AIC:                             3273.\n",
       "Df Residuals:                   20241   BIC:                             3313.\n",
       "Df Model:                           4                                         \n",
       "Covariance Type:            nonrobust                                         \n",
       "====================================================================================\n",
       "                       coef    std err          t      P>|t|      [0.025      0.975]\n",
       "------------------------------------------------------------------------------------\n",
       "const               -1.9542      0.077    -25.369      0.000      -2.105      -1.803\n",
       "age                  0.0055      0.000     34.893      0.000       0.005       0.006\n",
       "education.num        0.0319      0.001     42.683      0.000       0.030       0.033\n",
       "hours_log            0.4197      0.021     20.239      0.000       0.379       0.460\n",
       "capital.gain_log          0          0        nan        nan           0           0\n",
       "capital.loss_log     0.0209      0.001     18.766      0.000       0.019       0.023\n",
       "==============================================================================\n",
       "Omnibus:                     2341.155   Durbin-Watson:                   1.890\n",
       "Prob(Omnibus):                  0.000   Jarque-Bera (JB):             3247.183\n",
       "Skew:                           0.978   Prob(JB):                         0.00\n",
       "Kurtosis:                       2.845   Cond. No.                          inf\n",
       "==============================================================================\n",
       "\n",
       "Notes:\n",
       "[1] Standard Errors assume that the covariance matrix of the errors is correctly specified.\n",
       "[2] The smallest eigenvalue is      0. This might indicate that there are\n",
       "strong multicollinearity problems or that the design matrix is singular.\n",
       "\"\"\""
      ]
     },
     "execution_count": 12,
     "metadata": {},
     "output_type": "execute_result"
    }
   ],
   "source": [
    "# Perform regression analysis on the transformed dataset\n",
    "final_model = model_transformed\n",
    "\n",
    "# Summary of the regression model\n",
    "final_model_summary = final_model.summary()\n",
    "\n",
    "# Display the model summary\n",
    "final_model_summary"
   ]
  },
  {
   "cell_type": "markdown",
   "metadata": {},
   "source": [
    "# 회귀 분석 결과 요약\n",
    "\n",
    "1. 모델 성능\n",
    "\n",
    "- R-squared: 0.18 (설명력은 약 18%)\n",
    "- Adjusted R-squared: 0.18 (설명력에 대해 약간 조정된 값)\n",
    "- F-statistic: 1114 (모델의 전반적인 유의성 확인, p-value = 0.000)\n",
    "\n",
    "2. 계수 및 유의성\n",
    "    - 상수항(const): -1.9542 (p-value = 0.000, 유의)\n",
    "    - age: 0.0055 (p-value = 0.000, 유의)\n",
    "    - education.num: 0.0348 (p-value = 0.000, 유의)\n",
    "    - hours_log: 0.4197 (p-value = 0.000, 유의)\n",
    "    - capital.gain.log : 0.0101 (p-value = 0.000, 유의)\n",
    "3. 잔차 분석\n",
    "    - Durbin-Watson: 1.809 -> 잔차가 독립적임을 의미\n",
    "    - 정규성\n",
    "        - Omnibus: 2341.155 (p-value < 0.05, 정규성 위반)\n",
    "        - Jarque-Bera (JB): 3247.183 (p-value < 0.05, 정규성 위반)\n",
    "4. 문제점\n",
    "    - 모델이 강한 다중공선성을 보이는 것으로 보이며, 디자인 매트릭스가 특이(singular)한 상태일 가능성이 있음."
   ]
  },
  {
   "cell_type": "markdown",
   "metadata": {},
   "source": [
    "# 결론\n",
    "연령, 교육 수준, 주당 근무  시간은 수입과 강한 연관성이 있다.\n",
    "해당 값으로 regression 모델을 만들었을 때, R^2값은 train set에서 16%, test 세트에서 13.5%로 낮다. R^2 값이 낮다는 것은, 소득 수준이 본 세 변수 외에도 영향을 많이 받는 것을 시사한다."
   ]
  }
 ],
 "metadata": {
  "kernelspec": {
   "display_name": "sda2024",
   "language": "python",
   "name": "sdaenv"
  },
  "language_info": {
   "codemirror_mode": {
    "name": "ipython",
    "version": 3
   },
   "file_extension": ".py",
   "mimetype": "text/x-python",
   "name": "python",
   "nbconvert_exporter": "python",
   "pygments_lexer": "ipython3",
   "version": "3.8.18"
  }
 },
 "nbformat": 4,
 "nbformat_minor": 4
}
